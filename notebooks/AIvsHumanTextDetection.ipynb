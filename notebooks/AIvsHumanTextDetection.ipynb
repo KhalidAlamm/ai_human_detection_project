{
 "cells": [
  {
   "cell_type": "markdown",
   "id": "3cf670a8",
   "metadata": {},
   "source": [
    "# AI vs Human Text Detection\n",
    "\n",
    "This notebook builds three classifiers (SVM, Decision Tree, AdaBoost) to detect whether text was written by AI or a human.  \n",
    "It uses TF-IDF + simple text statistics, hyperparameter tuning via GridSearchCV, and saves ready-to-load pipelines for a Streamlit app.\n",
    "\n",
    "Author: Khalid Alam, R11821835."
   ]
  },
  {
   "cell_type": "markdown",
   "id": "89b12356",
   "metadata": {},
   "source": [
    "### Imports and Data loadinng"
   ]
  },
  {
   "cell_type": "code",
   "execution_count": 1,
   "id": "8509b454",
   "metadata": {},
   "outputs": [
    {
     "name": "stdout",
     "output_type": "stream",
     "text": [
      "['essay', 'label']\n"
     ]
    },
    {
     "data": {
      "text/html": [
       "<div>\n",
       "<style scoped>\n",
       "    .dataframe tbody tr th:only-of-type {\n",
       "        vertical-align: middle;\n",
       "    }\n",
       "\n",
       "    .dataframe tbody tr th {\n",
       "        vertical-align: top;\n",
       "    }\n",
       "\n",
       "    .dataframe thead th {\n",
       "        text-align: right;\n",
       "    }\n",
       "</style>\n",
       "<table border=\"1\" class=\"dataframe\">\n",
       "  <thead>\n",
       "    <tr style=\"text-align: right;\">\n",
       "      <th></th>\n",
       "      <th>essay</th>\n",
       "      <th>label</th>\n",
       "    </tr>\n",
       "  </thead>\n",
       "  <tbody>\n",
       "    <tr>\n",
       "      <th>0</th>\n",
       "      <td>International sports events require the most w...</td>\n",
       "      <td>0</td>\n",
       "    </tr>\n",
       "    <tr>\n",
       "      <th>1</th>\n",
       "      <td>Globalisation has become a significant aspect ...</td>\n",
       "      <td>0</td>\n",
       "    </tr>\n",
       "    <tr>\n",
       "      <th>2</th>\n",
       "      <td>There is an ever-increasing number of bullying...</td>\n",
       "      <td>0</td>\n",
       "    </tr>\n",
       "    <tr>\n",
       "      <th>3</th>\n",
       "      <td>It is commonly believed, that companies should...</td>\n",
       "      <td>0</td>\n",
       "    </tr>\n",
       "    <tr>\n",
       "      <th>4</th>\n",
       "      <td>Despite knowing about the adverse effects of c...</td>\n",
       "      <td>0</td>\n",
       "    </tr>\n",
       "  </tbody>\n",
       "</table>\n",
       "</div>"
      ],
      "text/plain": [
       "                                               essay  label\n",
       "0  International sports events require the most w...      0\n",
       "1  Globalisation has become a significant aspect ...      0\n",
       "2  There is an ever-increasing number of bullying...      0\n",
       "3  It is commonly believed, that companies should...      0\n",
       "4  Despite knowing about the adverse effects of c...      0"
      ]
     },
     "execution_count": 1,
     "metadata": {},
     "output_type": "execute_result"
    }
   ],
   "source": [
    "import pandas as pd\n",
    "import numpy as np\n",
    "import re\n",
    "\n",
    "from sklearn.model_selection import train_test_split\n",
    "from sklearn.pipeline import Pipeline, FeatureUnion\n",
    "from sklearn.feature_extraction.text import TfidfVectorizer\n",
    "from sklearn.base import BaseEstimator, TransformerMixin\n",
    "from sklearn.svm import SVC\n",
    "from sklearn.tree import DecisionTreeClassifier\n",
    "from sklearn.ensemble import AdaBoostClassifier\n",
    "from sklearn.model_selection import GridSearchCV\n",
    "\n",
    "import joblib\n",
    "\n",
    "\n",
    "df = pd.read_excel('../data/AI_vs_huam_train_dataset.xlsx')\n",
    "print(df.columns.tolist())\n",
    "df.head()\n"
   ]
  },
  {
   "cell_type": "markdown",
   "id": "87927265",
   "metadata": {},
   "source": [
    "### Preprocessing"
   ]
  },
  {
   "cell_type": "code",
   "execution_count": 2,
   "id": "dd20423d",
   "metadata": {},
   "outputs": [],
   "source": [
    "class CustomPreprocessor(BaseEstimator, TransformerMixin):\n",
    "    def fit(self, X, y=None): return self\n",
    "    def transform(self, X):\n",
    "        return X.apply(lambda t: \n",
    "            re.sub(r'[^a-z\\s]', '',\n",
    "                  re.sub(r'http\\S+', '', str(t).lower())\n",
    "            ).strip()\n",
    "        )\n",
    "\n",
    "class TextStats(BaseEstimator, TransformerMixin):\n",
    "    def fit(self, X, y=None): return self\n",
    "    def transform(self, X):\n",
    "        stats = []\n",
    "        for doc in X:\n",
    "            words = doc.split()\n",
    "            stats.append([\n",
    "                len(words),\n",
    "                np.mean([len(w) for w in words]) if words else 0,\n",
    "                doc.count('.') / max(len(words),1)\n",
    "            ])\n",
    "        return np.array(stats)\n",
    "\n",
    "# combine TF-IDF and text‐stats\n",
    "features = FeatureUnion([\n",
    "    ('tfidf', TfidfVectorizer()),\n",
    "    ('stats', TextStats())\n",
    "])\n",
    "\n",
    "# apply preprocessor\n",
    "df['clean_text'] = CustomPreprocessor().transform(df['essay'])\n"
   ]
  },
  {
   "cell_type": "markdown",
   "id": "514e14f6",
   "metadata": {},
   "source": [
    "### Train and Test Split"
   ]
  },
  {
   "cell_type": "code",
   "execution_count": 3,
   "id": "0071d52c",
   "metadata": {},
   "outputs": [],
   "source": [
    "X = df['clean_text']\n",
    "y = df['label']\n",
    "\n",
    "X_train, X_test, y_train, y_test = train_test_split(\n",
    "    X, y, test_size=0.2, stratify=y, random_state=42\n",
    ")\n"
   ]
  },
  {
   "cell_type": "markdown",
   "id": "db0cf6d8",
   "metadata": {},
   "source": [
    "### Pipelines and parameters"
   ]
  },
  {
   "cell_type": "code",
   "execution_count": 4,
   "id": "cfb98ad1",
   "metadata": {},
   "outputs": [],
   "source": [
    "# SVM pipeline + grid\n",
    "svm_pipe = Pipeline([\n",
    "    ('clean', CustomPreprocessor()),\n",
    "    ('feat', features),\n",
    "    ('clf', SVC(probability=True, random_state=42))\n",
    "])\n",
    "svm_param = {\n",
    "    'feat__tfidf__max_features': [5000, 10000],\n",
    "    'feat__tfidf__ngram_range': [(1,1), (1,2)],\n",
    "    'clf__C': [0.1, 1, 10],\n",
    "    'clf__kernel': ['linear','rbf'],\n",
    "    'clf__gamma': ['scale','auto']\n",
    "}\n",
    "\n",
    "# Decision Tree pipeline + grid\n",
    "dt_pipe = Pipeline([\n",
    "    ('clean', CustomPreprocessor()),\n",
    "    ('feat', features),\n",
    "    ('clf', DecisionTreeClassifier(random_state=42))\n",
    "])\n",
    "dt_param = {\n",
    "    'feat__tfidf__max_features': [5000, 10000],\n",
    "    'feat__tfidf__ngram_range': [(1,1), (1,2)],\n",
    "    'clf__criterion': ['gini','entropy'],\n",
    "    'clf__max_depth': [10, 20, None],\n",
    "    'clf__min_samples_split': [2, 5],\n",
    "    'clf__min_samples_leaf': [1, 2]\n",
    "}\n",
    "\n",
    "# AdaBoost pipeline + grid\n",
    "ab_pipe = Pipeline([\n",
    "    ('clean', CustomPreprocessor()),\n",
    "    ('feat', features),\n",
    "    ('clf', AdaBoostClassifier(random_state=42))\n",
    "])\n",
    "ab_param = {\n",
    "    'feat__tfidf__max_features': [5000, 10000],\n",
    "    'feat__tfidf__ngram_range': [(1,1), (1,2)],\n",
    "    'clf__n_estimators': [50, 100, 150],\n",
    "    'clf__learning_rate': [0.5, 1.0]\n",
    "}\n"
   ]
  },
  {
   "cell_type": "markdown",
   "id": "1ca4f169",
   "metadata": {},
   "source": [
    "### GRIDSEARCH"
   ]
  },
  {
   "cell_type": "code",
   "execution_count": 14,
   "id": "56ab07d9",
   "metadata": {},
   "outputs": [
    {
     "name": "stdout",
     "output_type": "stream",
     "text": [
      "Starting SVM pipeline search...\n",
      "Fitting 5 folds for each of 48 candidates, totalling 240 fits\n",
      "SVM done. Best F1 Macro: 0.9893\n",
      "SVM Best Params: {'clf__C': 10, 'clf__gamma': 'scale', 'clf__kernel': 'linear', 'feat__tfidf__max_features': 5000, 'feat__tfidf__ngram_range': (1, 2)}\n",
      "Starting Decision Tree pipeline search...\n",
      "Fitting 5 folds for each of 96 candidates, totalling 480 fits\n",
      "Decision Tree done. Best F1 Macro: 0.8772\n",
      "Decision Tree Best Params: {'clf__criterion': 'entropy', 'clf__max_depth': 10, 'clf__min_samples_leaf': 1, 'clf__min_samples_split': 5, 'feat__tfidf__max_features': 10000, 'feat__tfidf__ngram_range': (1, 2)}\n",
      "Starting AdaBoost pipeline search...\n",
      "Fitting 5 folds for each of 24 candidates, totalling 120 fits\n",
      "AdaBoost done. Best F1 Macro: 0.9658\n",
      "AdaBoost Best Params: {'clf__learning_rate': 1.0, 'clf__n_estimators': 150, 'feat__tfidf__max_features': 10000, 'feat__tfidf__ngram_range': (1, 2)}\n"
     ]
    },
    {
     "data": {
      "text/plain": [
       "['../models/adaboost_pipeline.pkl']"
      ]
     },
     "execution_count": 14,
     "metadata": {},
     "output_type": "execute_result"
    }
   ],
   "source": [
    "print(\"Starting SVM pipeline search...\")\n",
    "svm_search = GridSearchCV(svm_pipe, svm_param, cv=5, scoring='f1_macro', n_jobs=-1, verbose=2)\n",
    "svm_search.fit(X_train, y_train)\n",
    "print(f\"SVM done. Best F1 Macro: {svm_search.best_score_:.4f}\")\n",
    "print(\"SVM Best Params:\", svm_search.best_params_)\n",
    "joblib.dump(svm_search.best_estimator_, '../models/svm_pipeline.pkl')\n",
    "\n",
    "print(\"Starting Decision Tree pipeline search...\")\n",
    "dt_search = GridSearchCV(dt_pipe, dt_param, cv=5, scoring='f1_macro', n_jobs=-1, verbose=2)\n",
    "dt_search.fit(X_train, y_train)\n",
    "print(f\"Decision Tree done. Best F1 Macro: {dt_search.best_score_:.4f}\")\n",
    "print(\"Decision Tree Best Params:\", dt_search.best_params_)\n",
    "joblib.dump(dt_search.best_estimator_, '../models/decision_tree_pipeline.pkl')\n",
    "\n",
    "print(\"Starting AdaBoost pipeline search...\")\n",
    "ab_search = GridSearchCV(ab_pipe, ab_param, cv=5, scoring='f1_macro', n_jobs=-1, verbose=2)\n",
    "ab_search.fit(X_train, y_train)\n",
    "print(f\"AdaBoost done. Best F1 Macro: {ab_search.best_score_:.4f}\")\n",
    "print(\"AdaBoost Best Params:\", ab_search.best_params_)\n",
    "joblib.dump(ab_search.best_estimator_, '../models/adaboost_pipeline.pkl')"
   ]
  },
  {
   "cell_type": "markdown",
   "id": "443feb81",
   "metadata": {},
   "source": [
    "### TF-IDF Vectorizer"
   ]
  },
  {
   "cell_type": "code",
   "execution_count": 15,
   "id": "8ce05558",
   "metadata": {},
   "outputs": [
    {
     "data": {
      "text/plain": [
       "['../models/tfidf_vectorizer.pkl']"
      ]
     },
     "execution_count": 15,
     "metadata": {},
     "output_type": "execute_result"
    }
   ],
   "source": [
    "\n",
    "tfidf_vectorizer = TfidfVectorizer(max_features=5000, ngram_range=(1,2))\n",
    "tfidf_vectorizer.fit(df['clean_text'])\n",
    "joblib.dump(tfidf_vectorizer, '../models/tfidf_vectorizer.pkl')"
   ]
  },
  {
   "cell_type": "markdown",
   "id": "6b397417",
   "metadata": {},
   "source": [
    "## Reports and Confusion Matrices"
   ]
  },
  {
   "cell_type": "code",
   "execution_count": 16,
   "id": "d6f36c6e",
   "metadata": {},
   "outputs": [
    {
     "name": "stdout",
     "output_type": "stream",
     "text": [
      "\n",
      "SVM Classification Report\n",
      "              precision    recall  f1-score   support\n",
      "\n",
      "           0       0.99      0.99      0.99       373\n",
      "           1       0.99      0.99      0.99       373\n",
      "\n",
      "    accuracy                           0.99       746\n",
      "   macro avg       0.99      0.99      0.99       746\n",
      "weighted avg       0.99      0.99      0.99       746\n",
      "\n"
     ]
    },
    {
     "data": {
      "image/png": "[encoded data removed]",
      "text/plain": [
       "<Figure size 640x480 with 2 Axes>"
      ]
     },
     "metadata": {},
     "output_type": "display_data"
    },
    {
     "name": "stdout",
     "output_type": "stream",
     "text": [
      "\n",
      "Decision Tree Classification Report\n",
      "              precision    recall  f1-score   support\n",
      "\n",
      "           0       0.89      0.90      0.89       373\n",
      "           1       0.89      0.89      0.89       373\n",
      "\n",
      "    accuracy                           0.89       746\n",
      "   macro avg       0.89      0.89      0.89       746\n",
      "weighted avg       0.89      0.89      0.89       746\n",
      "\n"
     ]
    },
    {
     "data": {
      "image/png": "[encoded data removed]",
      "text/plain": [
       "<Figure size 640x480 with 2 Axes>"
      ]
     },
     "metadata": {},
     "output_type": "display_data"
    },
    {
     "name": "stdout",
     "output_type": "stream",
     "text": [
      "\n",
      "AdaBoost Classification Report\n",
      "              precision    recall  f1-score   support\n",
      "\n",
      "           0       0.96      0.98      0.97       373\n",
      "           1       0.98      0.96      0.97       373\n",
      "\n",
      "    accuracy                           0.97       746\n",
      "   macro avg       0.97      0.97      0.97       746\n",
      "weighted avg       0.97      0.97      0.97       746\n",
      "\n"
     ]
    },
    {
     "data": {
      "image/png": "[encoded data removed]",
      "text/plain": [
       "<Figure size 640x480 with 2 Axes>"
      ]
     },
     "metadata": {},
     "output_type": "display_data"
    }
   ],
   "source": [
    "from sklearn.metrics import classification_report, confusion_matrix, accuracy_score, f1_score\n",
    "models = {\n",
    "    'SVM': joblib.load('../models/svm_model.pkl'),\n",
    "    'Decision Tree': joblib.load('../models/decision_tree_model.pkl'),\n",
    "    'AdaBoost': joblib.load('../models/adaboost_model.pkl')\n",
    "}\n",
    "\n",
    "for name, model in models.items():\n",
    "    y_pred = model.predict(X_test)\n",
    "    print(f\"\\n{name} Classification Report\")\n",
    "    print(classification_report(y_test, y_pred))\n",
    "    cm = confusion_matrix(y_test, y_pred)\n",
    "    sns.heatmap(cm, annot=True, fmt='d', cmap='Blues')\n",
    "    plt.title(f\"{name} Confusion Matrix\")\n",
    "    plt.xlabel(\"Predicted\")\n",
    "    plt.ylabel(\"True\")\n",
    "    plt.show()\n"
   ]
  },
  {
   "cell_type": "markdown",
   "id": "0cfffc3e",
   "metadata": {},
   "source": [
    "### Model Comparison and ROC curves"
   ]
  },
  {
   "cell_type": "code",
   "execution_count": null,
   "id": "25fc0ee8",
   "metadata": {},
   "outputs": [
    {
     "data": {
      "text/html": [
       "<div>\n",
       "<style scoped>\n",
       "    .dataframe tbody tr th:only-of-type {\n",
       "        vertical-align: middle;\n",
       "    }\n",
       "\n",
       "    .dataframe tbody tr th {\n",
       "        vertical-align: top;\n",
       "    }\n",
       "\n",
       "    .dataframe thead th {\n",
       "        text-align: right;\n",
       "    }\n",
       "</style>\n",
       "<table border=\"1\" class=\"dataframe\">\n",
       "  <thead>\n",
       "    <tr style=\"text-align: right;\">\n",
       "      <th></th>\n",
       "      <th>Model</th>\n",
       "      <th>Accuracy</th>\n",
       "      <th>F1 Macro</th>\n",
       "      <th>F1 Weighted</th>\n",
       "    </tr>\n",
       "  </thead>\n",
       "  <tbody>\n",
       "    <tr>\n",
       "      <th>0</th>\n",
       "      <td>SVM</td>\n",
       "      <td>0.990617</td>\n",
       "      <td>0.990616</td>\n",
       "      <td>0.990616</td>\n",
       "    </tr>\n",
       "    <tr>\n",
       "      <th>1</th>\n",
       "      <td>Decision Tree</td>\n",
       "      <td>0.891421</td>\n",
       "      <td>0.891419</td>\n",
       "      <td>0.891419</td>\n",
       "    </tr>\n",
       "    <tr>\n",
       "      <th>2</th>\n",
       "      <td>AdaBoost</td>\n",
       "      <td>0.970509</td>\n",
       "      <td>0.970507</td>\n",
       "      <td>0.970507</td>\n",
       "    </tr>\n",
       "  </tbody>\n",
       "</table>\n",
       "</div>"
      ],
      "text/plain": [
       "           Model  Accuracy  F1 Macro  F1 Weighted\n",
       "0            SVM  0.990617  0.990616     0.990616\n",
       "1  Decision Tree  0.891421  0.891419     0.891419\n",
       "2       AdaBoost  0.970509  0.970507     0.970507"
      ]
     },
     "execution_count": 19,
     "metadata": {},
     "output_type": "execute_result"
    }
   ],
   "source": [
    "# Cell 9 – Model Comparison & ROC Data Saving\n",
    "\n",
    "from sklearn.metrics import accuracy_score, f1_score, roc_curve\n",
    "from sklearn.preprocessing import LabelBinarizer\n",
    "import pandas as pd\n",
    "import joblib\n",
    "\n",
    "# load your test split (X_test, y_test) and models\n",
    "models = {\n",
    "    'SVM': joblib.load('../models/svm_model.pkl'),\n",
    "    'Decision Tree': joblib.load('../models/decision_tree_model.pkl'),\n",
    "    'AdaBoost': joblib.load('../models/adaboost_model.pkl')\n",
    "}\n",
    "\n",
    "# Build and save the comparison table\n",
    "summary = []\n",
    "for name, model in models.items():\n",
    "    y_pred = model.predict(X_test)\n",
    "    summary.append([\n",
    "        name,\n",
    "        accuracy_score(y_test, y_pred),\n",
    "        f1_score(y_test, y_pred, average='macro'),\n",
    "        f1_score(y_test, y_pred, average='weighted')\n",
    "    ])\n",
    "comparison_df = pd.DataFrame(\n",
    "    summary,\n",
    "    columns=['Model', 'Accuracy', 'F1 Macro', 'F1 Weighted']\n",
    ")\n",
    "comparison_df.to_csv('../models/model_comparison.csv', index=False)\n",
    "\n",
    "# Build and save the ROC‐Data\n",
    "lb = LabelBinarizer().fit(y_test)\n",
    "y_bin = lb.transform(y_test).ravel()\n",
    "\n",
    "roc_records = []\n",
    "for name, model in models.items():\n",
    "    probs = model.predict_proba(X_test)[:, 1]\n",
    "    fpr, tpr, _ = roc_curve(y_bin, probs)\n",
    "    for fp, tp in zip(fpr, tpr):\n",
    "        roc_records.append({'Model': name, 'FPR': fp, 'TPR': tp})\n",
    "\n",
    "roc_df = pd.DataFrame(roc_records)\n",
    "roc_df.to_csv('../models/roc_data.csv', index=False)\n",
    "\n",
    "# Display\n",
    "comparison_df\n"
   ]
  }
 ],
 "metadata": {
  "kernelspec": {
   "display_name": "Python 3",
   "language": "python",
   "name": "python3"
  },
  "language_info": {
   "codemirror_mode": {
    "name": "ipython",
    "version": 3
   },
   "file_extension": ".py",
   "mimetype": "text/x-python",
   "name": "python",
   "nbconvert_exporter": "python",
   "pygments_lexer": "ipython3",
   "version": "3.10.0"
  }
 },
 "nbformat": 4,
 "nbformat_minor": 5
}
